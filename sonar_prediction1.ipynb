{
  "cells": [
    {
      "cell_type": "code",
      "execution_count": 10,
      "metadata": {
        "id": "4Lf0XU02x-nW"
      },
      "outputs": [],
      "source": [
        "\n",
        "import numpy as np\n",
        "import pandas as pd\n",
        "from sklearn.model_selection import train_test_split\n",
        "from sklearn.linear_model import LogisticRegression\n",
        "from sklearn.metrics import accuracy_score\n"
      ]
    },
    {
      "cell_type": "markdown",
      "metadata": {
        "id": "XHuxSBBKzBEv"
      },
      "source": [
        "DATA COLLECTION AND DATA PROCING"
      ]
    },
    {
      "cell_type": "code",
      "execution_count": null,
      "metadata": {
        "colab": {
          "base_uri": "https://localhost:8080/",
          "height": 708
        },
        "id": "8Vv-aIAvzCR1",
        "outputId": "eb345b1b-c990-4d2f-c23a-1dfe43c15e19"
      },
      "outputs": [],
      "source": [
        "\n",
        "Sonar_data=pd.read_csv('E:/cpp video/coding language/faltu/sMaLL_PROJECT/pro/Copyofsonardata.csv',header=None , header=\"sonar item data\")\n",
        "# Sonar_data=pd.read_csv('E:/cpp video/coding language/faltu/sMaLL_PROJECT/pro/Copyofsonardata.csv')\n",
        "Sonar_data.head() \n"
      ]
    },
    {
      "cell_type": "code",
      "execution_count": 14,
      "metadata": {
        "id": "qeauQ1IN0gFc"
      },
      "outputs": [
        {
          "data": {
            "text/html": [
              "<div>\n",
              "<style scoped>\n",
              "    .dataframe tbody tr th:only-of-type {\n",
              "        vertical-align: middle;\n",
              "    }\n",
              "\n",
              "    .dataframe tbody tr th {\n",
              "        vertical-align: top;\n",
              "    }\n",
              "\n",
              "    .dataframe thead th {\n",
              "        text-align: right;\n",
              "    }\n",
              "</style>\n",
              "<table border=\"1\" class=\"dataframe\">\n",
              "  <thead>\n",
              "    <tr style=\"text-align: right;\">\n",
              "      <th></th>\n",
              "      <th>0.0200</th>\n",
              "      <th>0.0371</th>\n",
              "      <th>0.0428</th>\n",
              "      <th>0.0207</th>\n",
              "      <th>0.0954</th>\n",
              "      <th>0.0986</th>\n",
              "      <th>0.1539</th>\n",
              "      <th>0.1601</th>\n",
              "      <th>0.3109</th>\n",
              "      <th>0.2111</th>\n",
              "      <th>...</th>\n",
              "      <th>0.0232</th>\n",
              "      <th>0.0027</th>\n",
              "      <th>0.0065</th>\n",
              "      <th>0.0159</th>\n",
              "      <th>0.0072</th>\n",
              "      <th>0.0167</th>\n",
              "      <th>0.0180</th>\n",
              "      <th>0.0084</th>\n",
              "      <th>0.0090</th>\n",
              "      <th>0.0032</th>\n",
              "    </tr>\n",
              "  </thead>\n",
              "  <tbody>\n",
              "    <tr>\n",
              "      <th>count</th>\n",
              "      <td>207.000000</td>\n",
              "      <td>207.000000</td>\n",
              "      <td>207.000000</td>\n",
              "      <td>207.000000</td>\n",
              "      <td>207.000000</td>\n",
              "      <td>207.000000</td>\n",
              "      <td>207.000000</td>\n",
              "      <td>207.000000</td>\n",
              "      <td>207.000000</td>\n",
              "      <td>207.000000</td>\n",
              "      <td>...</td>\n",
              "      <td>207.000000</td>\n",
              "      <td>207.000000</td>\n",
              "      <td>207.000000</td>\n",
              "      <td>207.000000</td>\n",
              "      <td>207.000000</td>\n",
              "      <td>207.000000</td>\n",
              "      <td>207.000000</td>\n",
              "      <td>207.000000</td>\n",
              "      <td>207.000000</td>\n",
              "      <td>207.000000</td>\n",
              "    </tr>\n",
              "    <tr>\n",
              "      <th>mean</th>\n",
              "      <td>0.029208</td>\n",
              "      <td>0.038443</td>\n",
              "      <td>0.043837</td>\n",
              "      <td>0.054053</td>\n",
              "      <td>0.075105</td>\n",
              "      <td>0.104599</td>\n",
              "      <td>0.121591</td>\n",
              "      <td>0.134677</td>\n",
              "      <td>0.177361</td>\n",
              "      <td>0.208245</td>\n",
              "      <td>...</td>\n",
              "      <td>0.016034</td>\n",
              "      <td>0.013472</td>\n",
              "      <td>0.010729</td>\n",
              "      <td>0.010917</td>\n",
              "      <td>0.009300</td>\n",
              "      <td>0.008181</td>\n",
              "      <td>0.007771</td>\n",
              "      <td>0.007947</td>\n",
              "      <td>0.007936</td>\n",
              "      <td>0.006523</td>\n",
              "    </tr>\n",
              "    <tr>\n",
              "      <th>std</th>\n",
              "      <td>0.023038</td>\n",
              "      <td>0.033040</td>\n",
              "      <td>0.038521</td>\n",
              "      <td>0.046583</td>\n",
              "      <td>0.055669</td>\n",
              "      <td>0.059247</td>\n",
              "      <td>0.061897</td>\n",
              "      <td>0.085340</td>\n",
              "      <td>0.118311</td>\n",
              "      <td>0.134741</td>\n",
              "      <td>...</td>\n",
              "      <td>0.012027</td>\n",
              "      <td>0.009628</td>\n",
              "      <td>0.007071</td>\n",
              "      <td>0.007310</td>\n",
              "      <td>0.007103</td>\n",
              "      <td>0.005719</td>\n",
              "      <td>0.005756</td>\n",
              "      <td>0.006485</td>\n",
              "      <td>0.006196</td>\n",
              "      <td>0.005038</td>\n",
              "    </tr>\n",
              "    <tr>\n",
              "      <th>min</th>\n",
              "      <td>0.001500</td>\n",
              "      <td>0.000600</td>\n",
              "      <td>0.001500</td>\n",
              "      <td>0.005800</td>\n",
              "      <td>0.006700</td>\n",
              "      <td>0.010200</td>\n",
              "      <td>0.003300</td>\n",
              "      <td>0.005500</td>\n",
              "      <td>0.007500</td>\n",
              "      <td>0.011300</td>\n",
              "      <td>...</td>\n",
              "      <td>0.000000</td>\n",
              "      <td>0.000800</td>\n",
              "      <td>0.000500</td>\n",
              "      <td>0.001000</td>\n",
              "      <td>0.000600</td>\n",
              "      <td>0.000400</td>\n",
              "      <td>0.000300</td>\n",
              "      <td>0.000300</td>\n",
              "      <td>0.000100</td>\n",
              "      <td>0.000600</td>\n",
              "    </tr>\n",
              "    <tr>\n",
              "      <th>25%</th>\n",
              "      <td>0.013300</td>\n",
              "      <td>0.016400</td>\n",
              "      <td>0.018900</td>\n",
              "      <td>0.024450</td>\n",
              "      <td>0.037700</td>\n",
              "      <td>0.066950</td>\n",
              "      <td>0.080600</td>\n",
              "      <td>0.080350</td>\n",
              "      <td>0.096750</td>\n",
              "      <td>0.111150</td>\n",
              "      <td>...</td>\n",
              "      <td>0.008350</td>\n",
              "      <td>0.007350</td>\n",
              "      <td>0.005050</td>\n",
              "      <td>0.005350</td>\n",
              "      <td>0.004100</td>\n",
              "      <td>0.004400</td>\n",
              "      <td>0.003700</td>\n",
              "      <td>0.003600</td>\n",
              "      <td>0.003650</td>\n",
              "      <td>0.003100</td>\n",
              "    </tr>\n",
              "    <tr>\n",
              "      <th>50%</th>\n",
              "      <td>0.022800</td>\n",
              "      <td>0.030800</td>\n",
              "      <td>0.034200</td>\n",
              "      <td>0.044100</td>\n",
              "      <td>0.062000</td>\n",
              "      <td>0.092100</td>\n",
              "      <td>0.105600</td>\n",
              "      <td>0.111900</td>\n",
              "      <td>0.152200</td>\n",
              "      <td>0.181000</td>\n",
              "      <td>...</td>\n",
              "      <td>0.013800</td>\n",
              "      <td>0.011500</td>\n",
              "      <td>0.009600</td>\n",
              "      <td>0.009300</td>\n",
              "      <td>0.007500</td>\n",
              "      <td>0.006800</td>\n",
              "      <td>0.005900</td>\n",
              "      <td>0.005800</td>\n",
              "      <td>0.006300</td>\n",
              "      <td>0.005300</td>\n",
              "    </tr>\n",
              "    <tr>\n",
              "      <th>75%</th>\n",
              "      <td>0.035800</td>\n",
              "      <td>0.048100</td>\n",
              "      <td>0.058200</td>\n",
              "      <td>0.065700</td>\n",
              "      <td>0.101050</td>\n",
              "      <td>0.134150</td>\n",
              "      <td>0.153050</td>\n",
              "      <td>0.169800</td>\n",
              "      <td>0.231500</td>\n",
              "      <td>0.269000</td>\n",
              "      <td>...</td>\n",
              "      <td>0.020700</td>\n",
              "      <td>0.016750</td>\n",
              "      <td>0.014900</td>\n",
              "      <td>0.014450</td>\n",
              "      <td>0.012100</td>\n",
              "      <td>0.010350</td>\n",
              "      <td>0.010350</td>\n",
              "      <td>0.010400</td>\n",
              "      <td>0.010350</td>\n",
              "      <td>0.008550</td>\n",
              "    </tr>\n",
              "    <tr>\n",
              "      <th>max</th>\n",
              "      <td>0.137100</td>\n",
              "      <td>0.233900</td>\n",
              "      <td>0.305900</td>\n",
              "      <td>0.426400</td>\n",
              "      <td>0.401000</td>\n",
              "      <td>0.382300</td>\n",
              "      <td>0.372900</td>\n",
              "      <td>0.459000</td>\n",
              "      <td>0.682800</td>\n",
              "      <td>0.710600</td>\n",
              "      <td>...</td>\n",
              "      <td>0.100400</td>\n",
              "      <td>0.070900</td>\n",
              "      <td>0.039000</td>\n",
              "      <td>0.035200</td>\n",
              "      <td>0.044700</td>\n",
              "      <td>0.039400</td>\n",
              "      <td>0.035500</td>\n",
              "      <td>0.044000</td>\n",
              "      <td>0.036400</td>\n",
              "      <td>0.043900</td>\n",
              "    </tr>\n",
              "  </tbody>\n",
              "</table>\n",
              "<p>8 rows × 60 columns</p>\n",
              "</div>"
            ],
            "text/plain": [
              "           0.0200      0.0371      0.0428      0.0207      0.0954      0.0986  \\\n",
              "count  207.000000  207.000000  207.000000  207.000000  207.000000  207.000000   \n",
              "mean     0.029208    0.038443    0.043837    0.054053    0.075105    0.104599   \n",
              "std      0.023038    0.033040    0.038521    0.046583    0.055669    0.059247   \n",
              "min      0.001500    0.000600    0.001500    0.005800    0.006700    0.010200   \n",
              "25%      0.013300    0.016400    0.018900    0.024450    0.037700    0.066950   \n",
              "50%      0.022800    0.030800    0.034200    0.044100    0.062000    0.092100   \n",
              "75%      0.035800    0.048100    0.058200    0.065700    0.101050    0.134150   \n",
              "max      0.137100    0.233900    0.305900    0.426400    0.401000    0.382300   \n",
              "\n",
              "           0.1539      0.1601      0.3109      0.2111  ...      0.0232  \\\n",
              "count  207.000000  207.000000  207.000000  207.000000  ...  207.000000   \n",
              "mean     0.121591    0.134677    0.177361    0.208245  ...    0.016034   \n",
              "std      0.061897    0.085340    0.118311    0.134741  ...    0.012027   \n",
              "min      0.003300    0.005500    0.007500    0.011300  ...    0.000000   \n",
              "25%      0.080600    0.080350    0.096750    0.111150  ...    0.008350   \n",
              "50%      0.105600    0.111900    0.152200    0.181000  ...    0.013800   \n",
              "75%      0.153050    0.169800    0.231500    0.269000  ...    0.020700   \n",
              "max      0.372900    0.459000    0.682800    0.710600  ...    0.100400   \n",
              "\n",
              "           0.0027      0.0065      0.0159      0.0072      0.0167      0.0180  \\\n",
              "count  207.000000  207.000000  207.000000  207.000000  207.000000  207.000000   \n",
              "mean     0.013472    0.010729    0.010917    0.009300    0.008181    0.007771   \n",
              "std      0.009628    0.007071    0.007310    0.007103    0.005719    0.005756   \n",
              "min      0.000800    0.000500    0.001000    0.000600    0.000400    0.000300   \n",
              "25%      0.007350    0.005050    0.005350    0.004100    0.004400    0.003700   \n",
              "50%      0.011500    0.009600    0.009300    0.007500    0.006800    0.005900   \n",
              "75%      0.016750    0.014900    0.014450    0.012100    0.010350    0.010350   \n",
              "max      0.070900    0.039000    0.035200    0.044700    0.039400    0.035500   \n",
              "\n",
              "           0.0084      0.0090      0.0032  \n",
              "count  207.000000  207.000000  207.000000  \n",
              "mean     0.007947    0.007936    0.006523  \n",
              "std      0.006485    0.006196    0.005038  \n",
              "min      0.000300    0.000100    0.000600  \n",
              "25%      0.003600    0.003650    0.003100  \n",
              "50%      0.005800    0.006300    0.005300  \n",
              "75%      0.010400    0.010350    0.008550  \n",
              "max      0.044000    0.036400    0.043900  \n",
              "\n",
              "[8 rows x 60 columns]"
            ]
          },
          "execution_count": 14,
          "metadata": {},
          "output_type": "execute_result"
        }
      ],
      "source": [
        "# umber of row and column\n",
        "Sonar_data.shape\n",
        "Sonar_data.describe()#describe statistical measures of the data"
      ]
    },
    {
      "cell_type": "code",
      "execution_count": null,
      "metadata": {
        "colab": {
          "base_uri": "https://localhost:8080/"
        },
        "id": "AQ8WwSz31dPY",
        "outputId": "f817a6f9-178f-4016-9de6-f74da0ec920b"
      },
      "outputs": [],
      "source": [
        "Sonar_data[60].value_counts()\n"
      ]
    },
    {
      "cell_type": "code",
      "execution_count": null,
      "metadata": {
        "id": "VUwvaKVh3EMv"
      },
      "outputs": [],
      "source": [
        "Sonar_data.groupby(60).mean()\n"
      ]
    },
    {
      "cell_type": "markdown",
      "metadata": {
        "id": "ScesBmid3m-6"
      },
      "source": [
        "SEPARAING DATA AND LABELS"
      ]
    },
    {
      "cell_type": "code",
      "execution_count": null,
      "metadata": {
        "id": "KMxmXqdj3VTW"
      },
      "outputs": [],
      "source": [
        "X = Sonar_data.drop(columns=60, axis=1)\n",
        "Y = Sonar_data[60]"
      ]
    },
    {
      "cell_type": "code",
      "execution_count": null,
      "metadata": {
        "id": "VO0cl5kC4JLB"
      },
      "outputs": [],
      "source": [
        "print(X)\n",
        "print(Y)"
      ]
    },
    {
      "cell_type": "markdown",
      "metadata": {
        "id": "44mYrhnE4d9Y"
      },
      "source": [
        "TRAINING AND TEST DATA"
      ]
    },
    {
      "cell_type": "code",
      "execution_count": null,
      "metadata": {
        "colab": {
          "base_uri": "https://localhost:8080/"
        },
        "id": "fnmD30qU4mk7",
        "outputId": "0a72ae66-895d-47d6-dbc0-e3c14c87e501"
      },
      "outputs": [],
      "source": [
        "X_train, X_test,Y_train, Y_test=train_test_split(X,Y,test_size=0.1, stratify=Y, random_state=1)\n",
        "print(X.shape, X_train.shape, X_test.shape)"
      ]
    },
    {
      "cell_type": "code",
      "execution_count": null,
      "metadata": {
        "colab": {
          "base_uri": "https://localhost:8080/"
        },
        "id": "BJcgQftA61ha",
        "outputId": "a90e5100-0b92-4c03-c8a0-2e449416ed08"
      },
      "outputs": [],
      "source": [
        "print(X_train)\n",
        "print(Y_train)\n"
      ]
    },
    {
      "cell_type": "markdown",
      "metadata": {
        "id": "kwfNkNTA7EXC"
      },
      "source": [
        "MODEL TRANING --> LOGISTIC REGRESSION"
      ]
    },
    {
      "cell_type": "code",
      "execution_count": null,
      "metadata": {
        "id": "5sTNiHq47CoA"
      },
      "outputs": [],
      "source": [
        "model=LogisticRegression()"
      ]
    },
    {
      "cell_type": "code",
      "execution_count": null,
      "metadata": {
        "colab": {
          "base_uri": "https://localhost:8080/",
          "height": 74
        },
        "id": "iuIVAICK73Je",
        "outputId": "5e7c4122-562a-4b80-865f-34c5aea4cc27"
      },
      "outputs": [],
      "source": [
        "# Traininng the logistic regression model with training data\n",
        "model.fit(X_train, Y_train)\n"
      ]
    },
    {
      "cell_type": "markdown",
      "metadata": {
        "id": "klLeCwOJFSns"
      },
      "source": [
        "MODEL EVALUTION"
      ]
    },
    {
      "cell_type": "code",
      "execution_count": null,
      "metadata": {
        "colab": {
          "base_uri": "https://localhost:8080/"
        },
        "id": "q_LFkP0S8FTN",
        "outputId": "bc4b4c2a-df21-491f-fbb5-3b8abf974b98"
      },
      "outputs": [],
      "source": [
        " #ACCURECY ON TRAINING DATA\n",
        "X_test_prediction=model.predict(X_train)\n",
        "test_data_accuracy=accuracy_score(X_test_prediction,Y_train)\n",
        "print(\"Accuracy on test data : \",test_data_accuracy)"
      ]
    },
    {
      "cell_type": "markdown",
      "metadata": {
        "id": "fQt4xO6QHh7_"
      },
      "source": [
        "MAKING ON TEST DATA SYSTEM"
      ]
    },
    {
      "cell_type": "code",
      "execution_count": null,
      "metadata": {
        "colab": {
          "base_uri": "https://localhost:8080/"
        },
        "id": "rxlMAyJKHqH8",
        "outputId": "2a3c3df4-831a-4b91-ce6c-b6d90f90f2c2"
      },
      "outputs": [],
      "source": [
        "#  rock data :\n",
        "Rock_data=(0.0286,\t0.0453,\t0.0277,\t0.0174,\t0.0384,\t0.099,\t0.1201,\t0.1833,\t0.2105,\t0.3039,\t0.2988,\t0.425,\t0.6343,\t0.8198,\t1,\t0.9988,\t0.9508,\t0.9025,\t0.7234,\t0.5122,\t0.2074,\t0.3985,\t0.589,\t0.2872,\t0.2043,\t0.5782,\t0.5389,\t0.375,\t0.3411,\t0.5067,\t0.558,\t0.4778,\t0.3299,\t0.2198,\t0.1407,\t0.2856,\t0.3807,\t0.4158,\t0.4054,\t0.3296,\t0.2707,\t0.265,\t0.0723,\t0.1238,\t0.1192,\t0.1089,\t0.0623,\t0.0494,\t0.0264,\t0.0081,\t0.0104,\t0.0045,\t0.0014,\t0.0038,\t0.0013,\t0.0089,\t0.0057,\t0.0027,\t0.0051,\t0.0062)\n",
        "# mines data :\n",
        "Mine_data1 = (0.0307, 0.0523,\t0.0653,\t0.0521,\t0.0611,\t0.0577,\t0.0665,\t0.0664,\t0.146,\t0.2792,\t0.3877,\t0.4992,\t0.4981,\t0.4972,\t0.5607,\t0.7339,\t0.823,\t0.9173,\t0.9975,\t0.9911,\t0.824,\t0.6498,\t0.598,\t0.4862,\t0.315,\t0.1543,\t0.0989,\t0.0284,\t0.1008,\t0.2636,\t0.2694,\t0.293,\t0.2925,\t0.3998,\t0.366,\t0.3172,\t0.4609,\t0.4374,\t0.182,\t0.3376,\t0.6202,\t0.4448,\t0.1863,\t0.142,\t0.0589,\t0.0576,\t0.0672,\t0.0269,\t0.0245,\t0.019,\t0.0063,\t0.0321,\t0.0189,\t0.0137,\t0.0277,\t0.0152,\t0.0052,\t0.0121,\t0.0124,\t0.0055)\n",
        "Sonar_dataRockMine=f\"{Rock_data}{Mine_data1}\"\n",
        "# changing the input data to an numpy array\n",
        "input_data_as_numpy_array=np.asarray(input_data)\n",
        "input_data_as_numpy_array=np.asarray(Sonar_dataRockMine)\n",
        "#reshape the np aray as we are prediction for one instance\n",
        "input_data_reshaped = input_data_as_numpy_array.reshape(1,-1)\n",
        "prediction = model.predict(input_data_reshaped)\n",
        "print(prediction)\n",
        "\n",
        "if(prediction=='R'):\n",
        "  print(\"the objecct is a Rock\")\n",
        "else:\n",
        "  print(\"the objecct is a Mines\")"
      ]
    },
    {
      "cell_type": "markdown",
      "metadata": {},
      "source": [
        "successfully complited sonar data prediction"
      ]
    },
    {
      "cell_type": "code",
      "execution_count": 5,
      "metadata": {},
      "outputs": [
        {
          "name": "stdout",
          "output_type": "stream",
          "text": [
            "The object are Rocks..!\n"
          ]
        }
      ],
      "source": [
        "print(\"The object are Rocks..!\")"
      ]
    }
  ],
  "metadata": {
    "colab": {
      "provenance": []
    },
    "kernelspec": {
      "display_name": "base",
      "language": "python",
      "name": "python3"
    },
    "language_info": {
      "codemirror_mode": {
        "name": "ipython",
        "version": 3
      },
      "file_extension": ".py",
      "mimetype": "text/x-python",
      "name": "python",
      "nbconvert_exporter": "python",
      "pygments_lexer": "ipython3",
      "version": "3.11.5"
    }
  },
  "nbformat": 4,
  "nbformat_minor": 0
}
